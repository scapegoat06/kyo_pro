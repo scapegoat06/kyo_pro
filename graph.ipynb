{
 "cells": [
  {
   "cell_type": "markdown",
   "metadata": {},
   "source": [
    "http://judge.u-aizu.ac.jp/onlinejudge/description.jsp?id=0189"
   ]
  },
  {
   "cell_type": "code",
   "execution_count": 66,
   "metadata": {
    "collapsed": false
   },
   "outputs": [],
   "source": [
    "n=6\n",
    "abc=[[0,1,80],\n",
    "     [1,2,20],\n",
    "     [0,2,60],\n",
    "     [2,3,50],\n",
    "     [3,4,60],\n",
    "     [1,4,90]]\n",
    "\n",
    "INF=1e+09\n",
    "ABC=[]\n",
    "for a,b,c in abc:\n",
    "    ABC.append([a,b,c])\n",
    "    ABC.append([b,a,c])\n",
    "    \n",
    "\n",
    "def Warshall_Floyd ():\n",
    "    #初期化\n",
    "    dp=[[INF for _ in range(n)] for _ in range(n)]\n",
    "    SUM=[0 for _ in range(n)]\n",
    "    \n",
    "    #代入\n",
    "    for a,b,c in abc:\n",
    "        dp[a][b]=c\n",
    "        dp[b][a]=c\n",
    "    \n",
    "    #ワーシャルフロイド法\n",
    "    for k in range(n):\n",
    "        for i in range(n):\n",
    "            for j in range(n):\n",
    "               if dp[i][j]>dp[i][k]+dp[k][j]:\n",
    "                    dp[i][j]=dp[i][k]+dp[k][j]\n",
    "                    \n",
    "    for i in range(n):\n",
    "        for j in range(n):\n",
    "            if i != j and dp[i][j]!=INF:\n",
    "                SUM[i] += dp[i][j]\n",
    "    \n",
    "    ans_i=0\n",
    "    for i in range(n):\n",
    "        if SUM[i]<SUM[ans_i] and SUM[i] != 0:\n",
    "            ans_i = i\n",
    "    \n",
    "    print(SUM)\n",
    "    print(ans_i)\n",
    "\n",
    "def Bellman_Ford  ():\n",
    "    SUM=[0 for _ in range(n)]\n",
    "    \n",
    "    \n",
    "    for i in range(n):\n",
    "        dist=[1e+09 for _ in range(n)]\n",
    "        dist[i]=0\n",
    "\n",
    "        for loop in range(n-1):\n",
    "            for a,b,c in ABC:\n",
    "                if dist[a]==1e+09:continue\n",
    "                if dist[b]>dist[a]+c:\n",
    "                    dist[b]=dist[a]+c\n",
    "        \n",
    "        for j in range(n):\n",
    "            if dist[j]!=INF:\n",
    "                SUM[i] += dist[j]\n",
    "    \n",
    "    ans_i=0\n",
    "    for i in range(n):\n",
    "        if SUM[i]<SUM[ans_i] and SUM[i] != 0:\n",
    "            ans_i = i\n",
    "    print(SUM)\n",
    "    print(ans_i)        \n",
    "\n",
    "import heapq\n",
    "def dijkstra_heapq():\n",
    "        INF=1e+09\n",
    "        adj=[[ INF for j in range(n)] for j in range(n)]\n",
    "        for a,b,c in abc:\n",
    "            adj[a][b]=c\n",
    "            adj[b][a]=c\n",
    "            \n",
    "        SUM=[0 for _ in range(n)]\n",
    "            \n",
    "        for i in range(n):\n",
    "            num = len(adj)          # グラフのノード数\n",
    "            dist = [float('inf') for i in range(num)] # 始点から各頂点までの最短距離を格納する\n",
    "            prev = [float('inf') for i in range(num)] # 最短経路における，その頂点の前の頂点のIDを格納する\n",
    "\n",
    "            dist[i] = 0\n",
    "            q = []                  # プライオリティキュー．各要素は，(startからある頂点vまでの仮の距離, 頂点vのID)からなるタプル\n",
    "            heapq.heappush(q, (0, i)) # 始点をpush\n",
    "\n",
    "            while len(q) != 0:\n",
    "                prov_cost, src = heapq.heappop(q) # pop\n",
    "\n",
    "                # プライオリティキューに格納されている最短距離が，現在計算できている最短距離より大きければ，distの更新をする必要はない\n",
    "                if dist[src] < prov_cost:\n",
    "                    continue\n",
    "\n",
    "                # 他の頂点の探索\n",
    "                for dest in range(num):\n",
    "                    cost = adj[src][dest]\n",
    "                    if cost != float('inf') and dist[dest] > dist[src] + cost:\n",
    "                        dist[dest] = dist[src] + cost # distの更新\n",
    "                        heapq.heappush(q, (dist[dest], dest)) # キューに新たな仮の距離の情報をpush\n",
    "                        prev[dest] = src\n",
    "                \n",
    "            for j in range(n):\n",
    "                if dist[j]!=INF:\n",
    "                    SUM[i] += dist[j]\n",
    "                \n",
    "        ans_i=0\n",
    "        for i in range(n):\n",
    "            if SUM[i]<SUM[ans_i] and SUM[i] != 0:\n",
    "                ans_i = i\n",
    "        print(SUM)\n",
    "        print(ans_i)        \n",
    "\n",
    "\n",
    "def dijkstra():\n",
    "        INF=1e+09\n",
    "        adj=[[ INF for j in range(n)] for j in range(n)]\n",
    "        for a,b,c in abc:\n",
    "            adj[a][b]=c\n",
    "            adj[b][a]=c\n",
    "            \n",
    "        SUM=[0 for _ in range(n)]\n",
    "            \n",
    "        for i in range(5):\n",
    "            num = 5          # グラフのノード数\n",
    "            dist = [float('inf') for i in range(num)] # 始点から各頂点までの最短距離を格納する\n",
    "            prev = [\"null\" for i in range(num)] # 最短経路における，その頂点の前の頂点のIDを格納する\n",
    "\n",
    "            dist[i] = 0\n",
    "            q = list(range(num))\n",
    "            \n",
    "            while len(q) != 0:\n",
    "                tmp=[dist[i] for i in q]\n",
    "                #print(q)\n",
    "                #print(tmp)\n",
    "                src = q.pop(q.index(q[tmp.index(min(tmp))])) \n",
    "                # 他の頂点の探索\n",
    "                for dest in range(num):\n",
    "                    cost = adj[src][dest]\n",
    "                    if cost != float('inf') and dist[dest] > dist[src] + cost:\n",
    "                        dist[dest] = dist[src] + cost # distの更新\n",
    "                        prev[dest] = src\n",
    "                \n",
    "            for j in range(5):\n",
    "                if dist[j]!=INF:\n",
    "                    SUM[i] += dist[j]\n",
    "                \n",
    "        ans_i=0\n",
    "        for i in range(n):\n",
    "            if SUM[i]<SUM[ans_i] and SUM[i] != 0:\n",
    "                ans_i = i\n",
    "        print(SUM)\n",
    "        print(ans_i)        \n",
    "\n",
    "            "
   ]
  },
  {
   "cell_type": "code",
   "execution_count": 67,
   "metadata": {
    "collapsed": false
   },
   "outputs": [
    {
     "name": "stdout",
     "output_type": "stream",
     "text": [
      "[420, 260, 240, 290, 430, 0]\n",
      "2\n",
      "CPU times: user 0 ns, sys: 0 ns, total: 0 ns\n",
      "Wall time: 927 µs\n"
     ]
    }
   ],
   "source": [
    "%time Warshall_Floyd()\n"
   ]
  },
  {
   "cell_type": "code",
   "execution_count": 68,
   "metadata": {
    "collapsed": false
   },
   "outputs": [
    {
     "name": "stdout",
     "output_type": "stream",
     "text": [
      "[420, 260, 240, 290, 430, 0]\n",
      "2\n",
      "CPU times: user 4 ms, sys: 0 ns, total: 4 ms\n",
      "Wall time: 673 µs\n"
     ]
    }
   ],
   "source": [
    "%time Bellman_Ford()\n"
   ]
  },
  {
   "cell_type": "code",
   "execution_count": 69,
   "metadata": {
    "collapsed": false
   },
   "outputs": [
    {
     "name": "stdout",
     "output_type": "stream",
     "text": [
      "[420, 260, 240, 290, 430, 0]\n",
      "2\n",
      "CPU times: user 4 ms, sys: 0 ns, total: 4 ms\n",
      "Wall time: 396 µs\n"
     ]
    }
   ],
   "source": [
    "%time dijkstra_heapq()"
   ]
  },
  {
   "cell_type": "code",
   "execution_count": 70,
   "metadata": {
    "collapsed": false
   },
   "outputs": [
    {
     "name": "stdout",
     "output_type": "stream",
     "text": [
      "[420, 260, 240, 290, 430, 0]\n",
      "2\n",
      "CPU times: user 0 ns, sys: 0 ns, total: 0 ns\n",
      "Wall time: 508 µs\n"
     ]
    }
   ],
   "source": [
    "%time dijkstra()"
   ]
  },
  {
   "cell_type": "code",
   "execution_count": null,
   "metadata": {
    "collapsed": true
   },
   "outputs": [],
   "source": []
  }
 ],
 "metadata": {
  "kernelspec": {
   "display_name": "Python 3",
   "language": "python",
   "name": "python3"
  },
  "language_info": {
   "codemirror_mode": {
    "name": "ipython",
    "version": 3
   },
   "file_extension": ".py",
   "mimetype": "text/x-python",
   "name": "python",
   "nbconvert_exporter": "python",
   "pygments_lexer": "ipython3",
   "version": "3.5.2"
  }
 },
 "nbformat": 4,
 "nbformat_minor": 1
}
